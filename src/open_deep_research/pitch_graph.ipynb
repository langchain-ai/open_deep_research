{
 "cells": [
  {
   "cell_type": "markdown",
   "id": "725b8301",
   "metadata": {},
   "source": [
    "# AI Engineer Pitch Deck Generator\n",
    "\n",
    "This notebook demonstrates the pitch deck generator for AI Makerspace Bootcamp students. It leverages LangGraph's structured workflow to help students create compelling pitch decks for Demo Day."
   ]
  },
  {
   "cell_type": "code",
   "execution_count": null,
   "id": "94b3bc38",
   "metadata": {},
   "outputs": [],
   "source": [
    "import uuid\n",
    "import asyncio\n",
    "from typing import Optional, Dict, Any\n",
    "from langchain_core.runnables import RunnableConfig\n",
    "\n",
    "from open_deep_research.pitch_graph import graph\n",
    "from open_deep_research.configuration import SearchAPI"
   ]
  },
  {
   "cell_type": "markdown",
   "id": "c47007f8",
   "metadata": {},
   "source": [
    "## Configuration\n",
    "\n",
    "Configure the pitch deck generator with your preferred models and settings. You can customize:\n",
    "- Model providers and models\n",
    "- Search API for research\n",
    "- Number of queries and research iterations\n",
    "- MCP integration (if enabled)"
   ]
  },
  {
   "cell_type": "code",
   "execution_count": null,
   "id": "2e6a4cf8",
   "metadata": {},
   "outputs": [],
   "source": [
    "# Basic configuration\n",
    "config = {\n",
    "    \"configurable\": {\n",
    "        \"thread_id\": str(uuid.uuid4()),\n",
    "        \"number_of_queries\": 2,  # Number of search queries to generate per section\n",
    "        \"max_search_depth\": 2,  # Maximum number of research iterations\n",
    "        \n",
    "        # Models\n",
    "        \"planner_provider\": \"anthropic\",  # Provider for planning model\n",
    "        \"planner_model\": \"claude-3-7-sonnet-latest\",  # Model for planning\n",
    "        \"writer_provider\": \"anthropic\",  # Provider for writing model\n",
    "        \"writer_model\": \"claude-3-5-sonnet-latest\",  # Model for writing\n",
    "        \n",
    "        # Search API\n",
    "        \"search_api\": SearchAPI.TAVILY,  # Web search API\n",
    "        \n",
    "        # Pitch deck specific settings\n",
    "        \"include_visuals\": True,  # Include visual suggestions\n",
    "        \"discord_integration\": True,  # Format content for Discord\n",
    "        \"enable_mcp\": False  # Enable MCP integration (if available)\n",
    "    }\n",
    "}\n",
    "\n",
    "# Advanced configuration (optional)\n",
    "# Uncomment and modify as needed\n",
    "\n",
    "# For specialized search APIs like Exa\n",
    "# config[\"configurable\"][\"search_api\"] = SearchAPI.EXA\n",
    "# config[\"configurable\"][\"search_api_config\"] = {\n",
    "#     \"num_results\": 3,\n",
    "#     \"include_domains\": [\"medium.com\", \"ycombinator.com\"]\n",
    "# }\n",
    "\n",
    "# For MCP integration\n",
    "# config[\"configurable\"][\"enable_mcp\"] = True\n",
    "# config[\"configurable\"][\"mcp_server_url\"] = \"http://localhost:8000\""
   ]
  },
  {
   "cell_type": "markdown",
   "id": "28ca830b",
   "metadata": {},
   "source": [
    "## Generate a Pitch Deck\n",
    "\n",
    "Use the configuration to generate a pitch deck for your AI project. The workflow will:\n",
    "1. Create a structured plan with 5-7 slides\n",
    "2. Generate a catchy tagline\n",
    "3. Research and write content for each slide\n",
    "4. Suggest visuals to enhance each slide\n",
    "5. Format a Discord post to share your pitch\n",
    "6. Compile the complete pitch deck"
   ]
  },
  {
   "cell_type": "code",
   "execution_count": null,
   "id": "69543a7d",
   "metadata": {},
   "outputs": [],
   "source": [
    "# Set your project topic here\n",
    "project_topic = \"An AI assistant that helps students create persuasive pitch decks for Demo Day\"\n",
    "\n",
    "# Generate the pitch deck\n",
    "async def generate_pitch():\n",
    "    result = await graph.ainvoke(\n",
    "        {\"topic\": project_topic},\n",
    "        config=config\n",
    "    )\n",
    "    return result\n",
    "\n",
    "# Run the generation\n",
    "pitch_result = await generate_pitch()\n",
    "pitch_result"
   ]
  },
  {
   "cell_type": "markdown",
   "id": "82070fef",
   "metadata": {},
   "source": [
    "## Display the Final Pitch Deck\n",
    "\n",
    "The output includes a complete pitch deck with slides and a formatted Discord post."
   ]
  },
  {
   "cell_type": "code",
   "execution_count": null,
   "id": "1e058c22",
   "metadata": {},
   "outputs": [],
   "source": [
    "# Display the pitch deck\n",
    "from IPython.display import Markdown\n",
    "\n",
    "Markdown(pitch_result[\"final_pitch\"])"
   ]
  },
  {
   "cell_type": "markdown",
   "id": "5430914d",
   "metadata": {},
   "source": [
    "## Discord Post Format\n",
    "\n",
    "Here's the formatted content for sharing your pitch on Discord:"
   ]
  },
  {
   "cell_type": "code",
   "execution_count": null,
   "id": "ae148682",
   "metadata": {},
   "outputs": [],
   "source": [
    "# Display Discord post\n",
    "discord_post = pitch_result[\"discord_post\"]\n",
    "\n",
    "print(f\"Title: {discord_post['title']}\\n\")\n",
    "print(f\"Message:\\n{discord_post['message']}\\n\")\n",
    "print(f\"Suggested Image: {discord_post['picture_suggestion']}\")"
   ]
  },
  {
   "cell_type": "markdown",
   "id": "1592294a",
   "metadata": {},
   "source": [
    "## Next Steps\n",
    "\n",
    "Now that you have your pitch deck generated, you can:\n",
    "\n",
    "1. **Create Visuals**: Use the suggestions to create actual visuals with Canva, PowerPoint, or other tools\n",
    "2. **Post to Discord**: Share your pitch with the community using the formatted content\n",
    "3. **Practice Delivery**: Use the slide content as a script for practice pitches\n",
    "4. **Get Feedback**: Share with mentors and peers for iterative improvement\n",
    "5. **Export to Presentation**: Create a final slide deck for Demo Day"
   ]
  },
  {
   "cell_type": "markdown",
   "id": "941e924f",
   "metadata": {},
   "source": [
    "## MCP Integration (Advanced)\n",
    "\n",
    "If you have MCP enabled, you can use specialized tools for enhanced pitch capabilities:"
   ]
  },
  {
   "cell_type": "code",
   "execution_count": null,
   "id": "1d06eee1",
   "metadata": {},
   "outputs": [],
   "source": [
    "# Uncomment if using MCP\n",
    "\n",
    "# from modelcontextprotocol.client import MCPClient\n",
    "# from modelcontextprotocol.schema import ExecuteToolParams\n",
    "\n",
    "# # Connect to MCP server\n",
    "# mcp_client = MCPClient(\n",
    "#     server_url=config[\"configurable\"][\"mcp_server_url\"],\n",
    "#     client_name=\"pitch-deck-enhancer\"\n",
    "# )\n",
    "\n",
    "# # Get available tools\n",
    "# tools = await mcp_client.list_tools()\n",
    "# print(\"Available MCP tools:\")\n",
    "# for tool in tools:\n",
    "#     print(f\"- {tool.name}: {tool.description}\")\n",
    "\n",
    "# # Example: Use MCP to enhance a slide with market data\n",
    "# market_data_params = ExecuteToolParams(\n",
    "#     name=\"fetch_market_data\",\n",
    "#     arguments={\n",
    "#         \"query\": \"AI pitch deck assistant market size\",\n",
    "#         \"slide_type\": \"Market\"\n",
    "#     }\n",
    "# )\n",
    "# market_data_result = await mcp_client.execute_tool(market_data_params)\n",
    "# print(market_data_result.content)"
   ]
  }
 ],
 "metadata": {
  "language_info": {
   "name": "python"
  }
 },
 "nbformat": 4,
 "nbformat_minor": 5
}
