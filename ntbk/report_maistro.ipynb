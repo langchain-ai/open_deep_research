{
 "cells": [
  {
   "cell_type": "markdown",
   "metadata": {},
   "source": [
    "# Report mAIstro Notebook\n",
    "\n",
    "This notebook demonstrates how to use the Report mAIstro tool to generate customizable reports on any user-supplied topic."
   ]
  },
  {
   "cell_type": "code",
   "execution_count": 1,
   "metadata": {},
   "outputs": [],
   "source": [
    "# Import necessary libraries\n",
    "import os\n",
    "from langchain_core.runnables import RunnableConfig\n",
    "from langgraph.graph import StateGraph\n",
    "from langgraph.constants import Send\n",
    "from langchain_openai import ChatOpenAI\n",
    "from langchain_anthropic import ChatAnthropic\n",
    "from tavily import TavilyClient, AsyncTavilyClient\n",
    "from pydantic import BaseModel, Field\n",
    "from typing import List\n",
    "from typing_extensions import TypedDict\n",
    "import asyncio\n",
    "import operator\n",
    "import configuration\n",
    "from langsmith import traceable\n",
    "from langchain_core.messages import HumanMessage, SystemMessage\n"
   ]
  },
  {
   "cell_type": "markdown",
   "metadata": {},
   "source": [
    "## Step 1: Set up the environment\n",
    "\n",
    "Make sure you have the necessary API keys in your `.env` file."
   ]
  },
  {
   "cell_type": "code",
   "execution_count": 2,
   "metadata": {},
   "outputs": [],
   "source": [
    "# Load environment variables\n",
    "from dotenv import load_dotenv\n",
    "load_dotenv()"
   ]
  },
  {
   "cell_type": "markdown",
   "metadata": {},
   "source": [
    "## Step 2: Define the configuration\n",
    "\n",
    "Define the configuration for the report generation process."
   ]
  },
  {
   "cell_type": "code",
   "execution_count": 3,
   "metadata": {},
   "outputs": [],
   "source": [
    "# Define the configuration\n",
    "config = RunnableConfig(\n",
    "    configurable={\n",
    "        \"report_structure\": configuration.DEFAULT_REPORT_STRUCTURE,\n",
    "        \"number_of_queries\": 2,\n",
    "        \"tavily_topic\": \"general\",\n",
    "        \"tavily_days\": None\n",
    "    }\n",
    ")"
   ]
  },
  {
   "cell_type": "markdown",
   "metadata": {},
   "source": [
    "## Step 3: Define the report state\n",
    "\n",
    "Define the initial state for the report generation process."
   ]
  },
  {
   "cell_type": "code",
   "execution_count": 4,
   "metadata": {},
   "outputs": [],
   "source": [
    "# Define the initial state\n",
    "initial_state = {\n",
    "    \"topic\": \"The impact of AI on modern business\",\n",
    "    \"sections\": [],\n",
    "    \"completed_sections\": [],\n",
    "    \"report_sections_from_research\": \"\",\n",
    "    \"final_report\": \"\"\n",
    "}"
   ]
  },
  {
   "cell_type": "markdown",
   "metadata": {},
   "source": [
    "## Step 4: Define the report generation graph\n",
    "\n",
    "Define the state graph for the report generation process."
   ]
  },
  {
   "cell_type": "code",
   "execution_count": 5,
   "metadata": {},
   "outputs": [],
   "source": [
    "# Define the report generation graph\n",
    "graph = StateGraph(\n",
    "    input=initial_state,\n",
    "    output={\"final_report\": str},\n",
    "    config=config\n",
    ")\n",
    "\n",
    "# Add nodes and edges to the graph\n",
    "graph.add_node(\"generate_report_plan\", generate_report_plan)\n",
    "graph.add_node(\"build_section_with_web_research\", section_builder.compile())\n",
    "graph.add_node(\"gather_completed_sections\", gather_completed_sections)\n",
    "graph.add_node(\"write_final_sections\", write_final_sections)\n",
    "graph.add_node(\"compile_final_report\", compile_final_report)\n",
    "graph.add_edge(START, \"generate_report_plan\")\n",
    "graph.add_conditional_edges(\"generate_report_plan\", initiate_section_writing, [\"build_section_with_web_research\"])\n",
    "graph.add_edge(\"build_section_with_web_research\", \"gather_completed_sections\")\n",
    "graph.add_conditional_edges(\"gather_completed_sections\", initiate_final_section_writing, [\"write_final_sections\"])\n",
    "graph.add_edge(\"write_final_sections\", \"compile_final_report\")\n",
    "graph.add_edge(\"compile_final_report\", END)\n",
    "\n",
    "# Compile the graph\n",
    "compiled_graph = graph.compile()"
   ]
  },
  {
   "cell_type": "markdown",
   "metadata": {},
   "source": [
    "## Step 5: Run the report generation process\n",
    "\n",
    "Run the state graph to generate the report."
   ]
  },
  {
   "cell_type": "code",
   "execution_count": 6,
   "metadata": {},
   "outputs": [],
   "source": [
    "# Run the report generation process\n",
    "final_report = compiled_graph.run()\n",
    "print(final_report)"
   ]
  }
 ]
}
